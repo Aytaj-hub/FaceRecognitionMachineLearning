{
  "nbformat": 4,
  "nbformat_minor": 0,
  "metadata": {
    "colab": {
      "provenance": [],
      "mount_file_id": "https://gist.github.com/HuseynA28/200cc0d8e4b8cb0ab9ef6cfd8f8ce90e#file-feactureengineering-ipynb",
      "authorship_tag": "ABX9TyMWHpxhlYClchCq6JkZvVNl",
      "include_colab_link": true
    },
    "kernelspec": {
      "name": "python3",
      "display_name": "Python 3"
    },
    "language_info": {
      "name": "python"
    }
  },
  "cells": [
    {
      "cell_type": "markdown",
      "metadata": {
        "id": "view-in-github",
        "colab_type": "text"
      },
      "source": [
        "<a href=\"https://colab.research.google.com/github/HuseynA28/FaceRecognitionMachineLearning/blob/main/feactureengineering.ipynb\" target=\"_parent\"><img src=\"https://colab.research.google.com/assets/colab-badge.svg\" alt=\"Open In Colab\"/></a>"
      ]
    },
    {
      "cell_type": "code",
      "execution_count": 5,
      "metadata": {
        "id": "hfy7vwiLdXva"
      },
      "outputs": [],
      "source": [
        "import pandas as pd\n",
        "import numpy as np\n",
        "import cv2\n",
        "import matplotlib.pyplot as plt"
      ]
    },
    {
      "cell_type": "code",
      "source": [
        "### Eigen mean"
      ],
      "metadata": {
        "id": "hBCVgpGcfCZU"
      },
      "execution_count": 6,
      "outputs": []
    },
    {
      "cell_type": "code",
      "source": [
        "df_ = pd.read_csv('/content/drive/MyDrive/FaceRecognition/OpenCV/data/data_image_pixel.csv')"
      ],
      "metadata": {
        "id": "xHuSCH-LeQ4-"
      },
      "execution_count": 7,
      "outputs": []
    },
    {
      "cell_type": "code",
      "source": [
        "df=df_.copy()"
      ],
      "metadata": {
        "id": "AGmOEo16eglj"
      },
      "execution_count": 8,
      "outputs": []
    },
    {
      "cell_type": "code",
      "source": [
        "df.head()"
      ],
      "metadata": {
        "colab": {
          "base_uri": "https://localhost:8080/",
          "height": 256
        },
        "id": "qISdVl6OeVXy",
        "outputId": "6eeacadd-99a9-41bf-f13a-06ac4084080f"
      },
      "execution_count": 9,
      "outputs": [
        {
          "output_type": "execute_result",
          "data": {
            "text/plain": [
              "          0         1         2         3         4         5         6  \\\n",
              "0  0.588235  0.580392  0.588235  0.588235  0.588235  0.588235  0.580392   \n",
              "1  0.596078  0.588235  0.588235  0.588235  0.588235  0.580392  0.576471   \n",
              "2  0.588235  0.588235  0.588235  0.588235  0.584314  0.588235  0.584314   \n",
              "3  0.580392  0.588235  0.584314  0.588235  0.588235  0.584314  0.588235   \n",
              "4  0.588235  0.588235  0.588235  0.584314  0.584314  0.584314  0.588235   \n",
              "\n",
              "          7         8         9  ...      9991      9992      9993      9994  \\\n",
              "0  0.588235  0.588235  0.588235  ...  0.592157  0.596078  0.596078  0.596078   \n",
              "1  0.588235  0.588235  0.584314  ...  0.282353  0.270588  0.278431  0.278431   \n",
              "2  0.588235  0.584314  0.588235  ...  0.474510  0.474510  0.478431  0.478431   \n",
              "3  0.592157  0.580392  0.592157  ...  0.584314  0.592157  0.584314  0.592157   \n",
              "4  0.584314  0.592157  0.588235  ...  0.560784  0.560784  0.560784  0.556863   \n",
              "\n",
              "       9995      9996      9997      9998      9999  Gender  \n",
              "0  0.596078  0.596078  0.592157  0.596078  0.576471  Female  \n",
              "1  0.282353  0.270588  0.274510  0.278431  0.368627    Male  \n",
              "2  0.482353  0.482353  0.482353  0.482353  0.556863    Male  \n",
              "3  0.588235  0.592157  0.576471  0.592157  0.584314  Female  \n",
              "4  0.560784  0.564706  0.552941  0.568627  0.580392    Male  \n",
              "\n",
              "[5 rows x 10001 columns]"
            ],
            "text/html": [
              "\n",
              "  <div id=\"df-8d3ebf15-750e-4a02-9d98-e8584217db8f\" class=\"colab-df-container\">\n",
              "    <div>\n",
              "<style scoped>\n",
              "    .dataframe tbody tr th:only-of-type {\n",
              "        vertical-align: middle;\n",
              "    }\n",
              "\n",
              "    .dataframe tbody tr th {\n",
              "        vertical-align: top;\n",
              "    }\n",
              "\n",
              "    .dataframe thead th {\n",
              "        text-align: right;\n",
              "    }\n",
              "</style>\n",
              "<table border=\"1\" class=\"dataframe\">\n",
              "  <thead>\n",
              "    <tr style=\"text-align: right;\">\n",
              "      <th></th>\n",
              "      <th>0</th>\n",
              "      <th>1</th>\n",
              "      <th>2</th>\n",
              "      <th>3</th>\n",
              "      <th>4</th>\n",
              "      <th>5</th>\n",
              "      <th>6</th>\n",
              "      <th>7</th>\n",
              "      <th>8</th>\n",
              "      <th>9</th>\n",
              "      <th>...</th>\n",
              "      <th>9991</th>\n",
              "      <th>9992</th>\n",
              "      <th>9993</th>\n",
              "      <th>9994</th>\n",
              "      <th>9995</th>\n",
              "      <th>9996</th>\n",
              "      <th>9997</th>\n",
              "      <th>9998</th>\n",
              "      <th>9999</th>\n",
              "      <th>Gender</th>\n",
              "    </tr>\n",
              "  </thead>\n",
              "  <tbody>\n",
              "    <tr>\n",
              "      <th>0</th>\n",
              "      <td>0.588235</td>\n",
              "      <td>0.580392</td>\n",
              "      <td>0.588235</td>\n",
              "      <td>0.588235</td>\n",
              "      <td>0.588235</td>\n",
              "      <td>0.588235</td>\n",
              "      <td>0.580392</td>\n",
              "      <td>0.588235</td>\n",
              "      <td>0.588235</td>\n",
              "      <td>0.588235</td>\n",
              "      <td>...</td>\n",
              "      <td>0.592157</td>\n",
              "      <td>0.596078</td>\n",
              "      <td>0.596078</td>\n",
              "      <td>0.596078</td>\n",
              "      <td>0.596078</td>\n",
              "      <td>0.596078</td>\n",
              "      <td>0.592157</td>\n",
              "      <td>0.596078</td>\n",
              "      <td>0.576471</td>\n",
              "      <td>Female</td>\n",
              "    </tr>\n",
              "    <tr>\n",
              "      <th>1</th>\n",
              "      <td>0.596078</td>\n",
              "      <td>0.588235</td>\n",
              "      <td>0.588235</td>\n",
              "      <td>0.588235</td>\n",
              "      <td>0.588235</td>\n",
              "      <td>0.580392</td>\n",
              "      <td>0.576471</td>\n",
              "      <td>0.588235</td>\n",
              "      <td>0.588235</td>\n",
              "      <td>0.584314</td>\n",
              "      <td>...</td>\n",
              "      <td>0.282353</td>\n",
              "      <td>0.270588</td>\n",
              "      <td>0.278431</td>\n",
              "      <td>0.278431</td>\n",
              "      <td>0.282353</td>\n",
              "      <td>0.270588</td>\n",
              "      <td>0.274510</td>\n",
              "      <td>0.278431</td>\n",
              "      <td>0.368627</td>\n",
              "      <td>Male</td>\n",
              "    </tr>\n",
              "    <tr>\n",
              "      <th>2</th>\n",
              "      <td>0.588235</td>\n",
              "      <td>0.588235</td>\n",
              "      <td>0.588235</td>\n",
              "      <td>0.588235</td>\n",
              "      <td>0.584314</td>\n",
              "      <td>0.588235</td>\n",
              "      <td>0.584314</td>\n",
              "      <td>0.588235</td>\n",
              "      <td>0.584314</td>\n",
              "      <td>0.588235</td>\n",
              "      <td>...</td>\n",
              "      <td>0.474510</td>\n",
              "      <td>0.474510</td>\n",
              "      <td>0.478431</td>\n",
              "      <td>0.478431</td>\n",
              "      <td>0.482353</td>\n",
              "      <td>0.482353</td>\n",
              "      <td>0.482353</td>\n",
              "      <td>0.482353</td>\n",
              "      <td>0.556863</td>\n",
              "      <td>Male</td>\n",
              "    </tr>\n",
              "    <tr>\n",
              "      <th>3</th>\n",
              "      <td>0.580392</td>\n",
              "      <td>0.588235</td>\n",
              "      <td>0.584314</td>\n",
              "      <td>0.588235</td>\n",
              "      <td>0.588235</td>\n",
              "      <td>0.584314</td>\n",
              "      <td>0.588235</td>\n",
              "      <td>0.592157</td>\n",
              "      <td>0.580392</td>\n",
              "      <td>0.592157</td>\n",
              "      <td>...</td>\n",
              "      <td>0.584314</td>\n",
              "      <td>0.592157</td>\n",
              "      <td>0.584314</td>\n",
              "      <td>0.592157</td>\n",
              "      <td>0.588235</td>\n",
              "      <td>0.592157</td>\n",
              "      <td>0.576471</td>\n",
              "      <td>0.592157</td>\n",
              "      <td>0.584314</td>\n",
              "      <td>Female</td>\n",
              "    </tr>\n",
              "    <tr>\n",
              "      <th>4</th>\n",
              "      <td>0.588235</td>\n",
              "      <td>0.588235</td>\n",
              "      <td>0.588235</td>\n",
              "      <td>0.584314</td>\n",
              "      <td>0.584314</td>\n",
              "      <td>0.584314</td>\n",
              "      <td>0.588235</td>\n",
              "      <td>0.584314</td>\n",
              "      <td>0.592157</td>\n",
              "      <td>0.588235</td>\n",
              "      <td>...</td>\n",
              "      <td>0.560784</td>\n",
              "      <td>0.560784</td>\n",
              "      <td>0.560784</td>\n",
              "      <td>0.556863</td>\n",
              "      <td>0.560784</td>\n",
              "      <td>0.564706</td>\n",
              "      <td>0.552941</td>\n",
              "      <td>0.568627</td>\n",
              "      <td>0.580392</td>\n",
              "      <td>Male</td>\n",
              "    </tr>\n",
              "  </tbody>\n",
              "</table>\n",
              "<p>5 rows × 10001 columns</p>\n",
              "</div>\n",
              "    <div class=\"colab-df-buttons\">\n",
              "\n",
              "  <div class=\"colab-df-container\">\n",
              "    <button class=\"colab-df-convert\" onclick=\"convertToInteractive('df-8d3ebf15-750e-4a02-9d98-e8584217db8f')\"\n",
              "            title=\"Convert this dataframe to an interactive table.\"\n",
              "            style=\"display:none;\">\n",
              "\n",
              "  <svg xmlns=\"http://www.w3.org/2000/svg\" height=\"24px\" viewBox=\"0 -960 960 960\">\n",
              "    <path d=\"M120-120v-720h720v720H120Zm60-500h600v-160H180v160Zm220 220h160v-160H400v160Zm0 220h160v-160H400v160ZM180-400h160v-160H180v160Zm440 0h160v-160H620v160ZM180-180h160v-160H180v160Zm440 0h160v-160H620v160Z\"/>\n",
              "  </svg>\n",
              "    </button>\n",
              "\n",
              "  <style>\n",
              "    .colab-df-container {\n",
              "      display:flex;\n",
              "      gap: 12px;\n",
              "    }\n",
              "\n",
              "    .colab-df-convert {\n",
              "      background-color: #E8F0FE;\n",
              "      border: none;\n",
              "      border-radius: 50%;\n",
              "      cursor: pointer;\n",
              "      display: none;\n",
              "      fill: #1967D2;\n",
              "      height: 32px;\n",
              "      padding: 0 0 0 0;\n",
              "      width: 32px;\n",
              "    }\n",
              "\n",
              "    .colab-df-convert:hover {\n",
              "      background-color: #E2EBFA;\n",
              "      box-shadow: 0px 1px 2px rgba(60, 64, 67, 0.3), 0px 1px 3px 1px rgba(60, 64, 67, 0.15);\n",
              "      fill: #174EA6;\n",
              "    }\n",
              "\n",
              "    .colab-df-buttons div {\n",
              "      margin-bottom: 4px;\n",
              "    }\n",
              "\n",
              "    [theme=dark] .colab-df-convert {\n",
              "      background-color: #3B4455;\n",
              "      fill: #D2E3FC;\n",
              "    }\n",
              "\n",
              "    [theme=dark] .colab-df-convert:hover {\n",
              "      background-color: #434B5C;\n",
              "      box-shadow: 0px 1px 3px 1px rgba(0, 0, 0, 0.15);\n",
              "      filter: drop-shadow(0px 1px 2px rgba(0, 0, 0, 0.3));\n",
              "      fill: #FFFFFF;\n",
              "    }\n",
              "  </style>\n",
              "\n",
              "    <script>\n",
              "      const buttonEl =\n",
              "        document.querySelector('#df-8d3ebf15-750e-4a02-9d98-e8584217db8f button.colab-df-convert');\n",
              "      buttonEl.style.display =\n",
              "        google.colab.kernel.accessAllowed ? 'block' : 'none';\n",
              "\n",
              "      async function convertToInteractive(key) {\n",
              "        const element = document.querySelector('#df-8d3ebf15-750e-4a02-9d98-e8584217db8f');\n",
              "        const dataTable =\n",
              "          await google.colab.kernel.invokeFunction('convertToInteractive',\n",
              "                                                    [key], {});\n",
              "        if (!dataTable) return;\n",
              "\n",
              "        const docLinkHtml = 'Like what you see? Visit the ' +\n",
              "          '<a target=\"_blank\" href=https://colab.research.google.com/notebooks/data_table.ipynb>data table notebook</a>'\n",
              "          + ' to learn more about interactive tables.';\n",
              "        element.innerHTML = '';\n",
              "        dataTable['output_type'] = 'display_data';\n",
              "        await google.colab.output.renderOutput(dataTable, element);\n",
              "        const docLink = document.createElement('div');\n",
              "        docLink.innerHTML = docLinkHtml;\n",
              "        element.appendChild(docLink);\n",
              "      }\n",
              "    </script>\n",
              "  </div>\n",
              "\n",
              "\n",
              "<div id=\"df-67a4e3d5-7629-470b-a6a2-3a96ffa72291\">\n",
              "  <button class=\"colab-df-quickchart\" onclick=\"quickchart('df-67a4e3d5-7629-470b-a6a2-3a96ffa72291')\"\n",
              "            title=\"Suggest charts\"\n",
              "            style=\"display:none;\">\n",
              "\n",
              "<svg xmlns=\"http://www.w3.org/2000/svg\" height=\"24px\"viewBox=\"0 0 24 24\"\n",
              "     width=\"24px\">\n",
              "    <g>\n",
              "        <path d=\"M19 3H5c-1.1 0-2 .9-2 2v14c0 1.1.9 2 2 2h14c1.1 0 2-.9 2-2V5c0-1.1-.9-2-2-2zM9 17H7v-7h2v7zm4 0h-2V7h2v10zm4 0h-2v-4h2v4z\"/>\n",
              "    </g>\n",
              "</svg>\n",
              "  </button>\n",
              "\n",
              "<style>\n",
              "  .colab-df-quickchart {\n",
              "      --bg-color: #E8F0FE;\n",
              "      --fill-color: #1967D2;\n",
              "      --hover-bg-color: #E2EBFA;\n",
              "      --hover-fill-color: #174EA6;\n",
              "      --disabled-fill-color: #AAA;\n",
              "      --disabled-bg-color: #DDD;\n",
              "  }\n",
              "\n",
              "  [theme=dark] .colab-df-quickchart {\n",
              "      --bg-color: #3B4455;\n",
              "      --fill-color: #D2E3FC;\n",
              "      --hover-bg-color: #434B5C;\n",
              "      --hover-fill-color: #FFFFFF;\n",
              "      --disabled-bg-color: #3B4455;\n",
              "      --disabled-fill-color: #666;\n",
              "  }\n",
              "\n",
              "  .colab-df-quickchart {\n",
              "    background-color: var(--bg-color);\n",
              "    border: none;\n",
              "    border-radius: 50%;\n",
              "    cursor: pointer;\n",
              "    display: none;\n",
              "    fill: var(--fill-color);\n",
              "    height: 32px;\n",
              "    padding: 0;\n",
              "    width: 32px;\n",
              "  }\n",
              "\n",
              "  .colab-df-quickchart:hover {\n",
              "    background-color: var(--hover-bg-color);\n",
              "    box-shadow: 0 1px 2px rgba(60, 64, 67, 0.3), 0 1px 3px 1px rgba(60, 64, 67, 0.15);\n",
              "    fill: var(--button-hover-fill-color);\n",
              "  }\n",
              "\n",
              "  .colab-df-quickchart-complete:disabled,\n",
              "  .colab-df-quickchart-complete:disabled:hover {\n",
              "    background-color: var(--disabled-bg-color);\n",
              "    fill: var(--disabled-fill-color);\n",
              "    box-shadow: none;\n",
              "  }\n",
              "\n",
              "  .colab-df-spinner {\n",
              "    border: 2px solid var(--fill-color);\n",
              "    border-color: transparent;\n",
              "    border-bottom-color: var(--fill-color);\n",
              "    animation:\n",
              "      spin 1s steps(1) infinite;\n",
              "  }\n",
              "\n",
              "  @keyframes spin {\n",
              "    0% {\n",
              "      border-color: transparent;\n",
              "      border-bottom-color: var(--fill-color);\n",
              "      border-left-color: var(--fill-color);\n",
              "    }\n",
              "    20% {\n",
              "      border-color: transparent;\n",
              "      border-left-color: var(--fill-color);\n",
              "      border-top-color: var(--fill-color);\n",
              "    }\n",
              "    30% {\n",
              "      border-color: transparent;\n",
              "      border-left-color: var(--fill-color);\n",
              "      border-top-color: var(--fill-color);\n",
              "      border-right-color: var(--fill-color);\n",
              "    }\n",
              "    40% {\n",
              "      border-color: transparent;\n",
              "      border-right-color: var(--fill-color);\n",
              "      border-top-color: var(--fill-color);\n",
              "    }\n",
              "    60% {\n",
              "      border-color: transparent;\n",
              "      border-right-color: var(--fill-color);\n",
              "    }\n",
              "    80% {\n",
              "      border-color: transparent;\n",
              "      border-right-color: var(--fill-color);\n",
              "      border-bottom-color: var(--fill-color);\n",
              "    }\n",
              "    90% {\n",
              "      border-color: transparent;\n",
              "      border-bottom-color: var(--fill-color);\n",
              "    }\n",
              "  }\n",
              "</style>\n",
              "\n",
              "  <script>\n",
              "    async function quickchart(key) {\n",
              "      const quickchartButtonEl =\n",
              "        document.querySelector('#' + key + ' button');\n",
              "      quickchartButtonEl.disabled = true;  // To prevent multiple clicks.\n",
              "      quickchartButtonEl.classList.add('colab-df-spinner');\n",
              "      try {\n",
              "        const charts = await google.colab.kernel.invokeFunction(\n",
              "            'suggestCharts', [key], {});\n",
              "      } catch (error) {\n",
              "        console.error('Error during call to suggestCharts:', error);\n",
              "      }\n",
              "      quickchartButtonEl.classList.remove('colab-df-spinner');\n",
              "      quickchartButtonEl.classList.add('colab-df-quickchart-complete');\n",
              "    }\n",
              "    (() => {\n",
              "      let quickchartButtonEl =\n",
              "        document.querySelector('#df-67a4e3d5-7629-470b-a6a2-3a96ffa72291 button');\n",
              "      quickchartButtonEl.style.display =\n",
              "        google.colab.kernel.accessAllowed ? 'block' : 'none';\n",
              "    })();\n",
              "  </script>\n",
              "</div>\n",
              "\n",
              "    </div>\n",
              "  </div>\n"
            ],
            "application/vnd.google.colaboratory.intrinsic+json": {
              "type": "dataframe",
              "variable_name": "df"
            }
          },
          "metadata": {},
          "execution_count": 9
        }
      ]
    },
    {
      "cell_type": "code",
      "source": [
        "values =df.drop([\"Gender\"],axis=1).values"
      ],
      "metadata": {
        "id": "1mRaaFg7enDH"
      },
      "execution_count": 10,
      "outputs": []
    },
    {
      "cell_type": "code",
      "source": [
        "values"
      ],
      "metadata": {
        "colab": {
          "base_uri": "https://localhost:8080/"
        },
        "id": "qIm3Qc7CeefE",
        "outputId": "630e54c9-7f90-4039-8431-f3f0558d8f69"
      },
      "execution_count": 11,
      "outputs": [
        {
          "output_type": "execute_result",
          "data": {
            "text/plain": [
              "array([[0.58823529, 0.58039216, 0.58823529, ..., 0.59215686, 0.59607843,\n",
              "        0.57647059],\n",
              "       [0.59607843, 0.58823529, 0.58823529, ..., 0.2745098 , 0.27843137,\n",
              "        0.36862745],\n",
              "       [0.58823529, 0.58823529, 0.58823529, ..., 0.48235294, 0.48235294,\n",
              "        0.55686275],\n",
              "       ...,\n",
              "       [0.58823529, 0.58823529, 0.58823529, ..., 0.59607843, 0.6       ,\n",
              "        0.58431373],\n",
              "       [0.58823529, 0.58823529, 0.58823529, ..., 0.58823529, 0.58823529,\n",
              "        0.58823529],\n",
              "       [0.58823529, 0.58823529, 0.58823529, ..., 0.59607843, 0.58431373,\n",
              "        0.58039216]])"
            ]
          },
          "metadata": {},
          "execution_count": 11
        }
      ]
    },
    {
      "cell_type": "code",
      "source": [
        "mean_value = np.mean(values, axis=0)"
      ],
      "metadata": {
        "id": "Of5QeRpme5dF"
      },
      "execution_count": 12,
      "outputs": []
    },
    {
      "cell_type": "code",
      "source": [
        "mean_value.shape"
      ],
      "metadata": {
        "colab": {
          "base_uri": "https://localhost:8080/"
        },
        "id": "OhPypbjSfWbD",
        "outputId": "ba81d5aa-e697-4bb5-d75b-cbffb9a2e971"
      },
      "execution_count": 13,
      "outputs": [
        {
          "output_type": "execute_result",
          "data": {
            "text/plain": [
              "(10000,)"
            ]
          },
          "metadata": {},
          "execution_count": 13
        }
      ]
    },
    {
      "cell_type": "code",
      "source": [
        "plt.imshow(mean_value.reshape(100, 100),cmap='gray')"
      ],
      "metadata": {
        "colab": {
          "base_uri": "https://localhost:8080/",
          "height": 450
        },
        "id": "bb9ypyqffZzS",
        "outputId": "9cecfcee-2387-484a-882e-1ff8b1a6d8dd"
      },
      "execution_count": 14,
      "outputs": [
        {
          "output_type": "execute_result",
          "data": {
            "text/plain": [
              "<matplotlib.image.AxesImage at 0x7c1fb7304460>"
            ]
          },
          "metadata": {},
          "execution_count": 14
        },
        {
          "output_type": "display_data",
          "data": {
            "text/plain": [
              "<Figure size 640x480 with 1 Axes>"
            ],
            "image/png": "[encoded data removed]"
          },
          "metadata": {}
        }
      ]
    },
    {
      "cell_type": "markdown",
      "source": [
        "**Subtract mean value for the data **"
      ],
      "metadata": {
        "id": "nzFvQWjHf5D7"
      }
    },
    {
      "cell_type": "code",
      "source": [
        "value_clean = values - mean_value"
      ],
      "metadata": {
        "id": "Do6EyPmsgDIR"
      },
      "execution_count": 15,
      "outputs": []
    },
    {
      "cell_type": "markdown",
      "source": [
        "# **Visualization Eigen Face**"
      ],
      "metadata": {
        "id": "O6lzEWkcGoKM"
      }
    },
    {
      "cell_type": "code",
      "source": [
        "value_clean.shape"
      ],
      "metadata": {
        "id": "YVXvqavFG3oE",
        "outputId": "5e54212b-c1b2-4500-acd7-3249870e484d",
        "colab": {
          "base_uri": "https://localhost:8080/"
        }
      },
      "execution_count": 16,
      "outputs": [
        {
          "output_type": "execute_result",
          "data": {
            "text/plain": [
              "(1058, 10000)"
            ]
          },
          "metadata": {},
          "execution_count": 16
        }
      ]
    },
    {
      "cell_type": "code",
      "source": [
        "eingen_image = value_clean[0,:].reshape((100, 100))"
      ],
      "metadata": {
        "id": "M6KKtZzYGuZj"
      },
      "execution_count": 19,
      "outputs": []
    },
    {
      "cell_type": "code",
      "source": [
        "plt.imshow(eingen_image, cmap='gray')"
      ],
      "metadata": {
        "id": "jwzpSlA3HSds",
        "outputId": "11e1cbc6-e8aa-40ad-e6f1-c485c912c7ed",
        "colab": {
          "base_uri": "https://localhost:8080/",
          "height": 450
        }
      },
      "execution_count": 20,
      "outputs": [
        {
          "output_type": "execute_result",
          "data": {
            "text/plain": [
              "<matplotlib.image.AxesImage at 0x7c1fb5358a30>"
            ]
          },
          "metadata": {},
          "execution_count": 20
        },
        {
          "output_type": "display_data",
          "data": {
            "text/plain": [
              "<Figure size 640x480 with 1 Axes>"
            ],
            "image/png": "[encoded data removed]"
          },
          "metadata": {}
        }
      ]
    },
    {
      "cell_type": "markdown",
      "source": [
        "# **PCA**"
      ],
      "metadata": {
        "id": "UJd1Af17gNTJ"
      }
    },
    {
      "cell_type": "code",
      "source": [
        "import numpy as np\n",
        "from sklearn.decomposition import PCA"
      ],
      "metadata": {
        "id": "WvKJMGF9geGo"
      },
      "execution_count": null,
      "outputs": []
    },
    {
      "cell_type": "code",
      "source": [
        "pca =PCA(n_components=None, whiten=True, svd_solver='auto')\n",
        "pca.fit(value_clean)"
      ],
      "metadata": {
        "id": "GLlPm8-IgSEY"
      },
      "execution_count": null,
      "outputs": []
    },
    {
      "cell_type": "code",
      "source": [
        "exp_df = pd.DataFrame({\n",
        "    \"explained_var\": pca.explained_variance_ratio_,\n",
        "    \"cum_explained_var\": pca.explained_variance_ratio_.cumsum(),\n",
        "    \"eigen_value\": pca.explained_variance_,\n",
        "    \"pricipal_components\": np.arange(1, len(pca.explained_variance_ratio_) + 1)\n",
        "})"
      ],
      "metadata": {
        "id": "QXkfn72wgs94"
      },
      "execution_count": null,
      "outputs": []
    },
    {
      "cell_type": "code",
      "source": [
        "exp_df.head()"
      ],
      "metadata": {
        "id": "eDv0UdjkhWPq"
      },
      "execution_count": null,
      "outputs": []
    },
    {
      "cell_type": "code",
      "source": [
        "exp_df.set_index(\"pricipal_components\", inplace=True)"
      ],
      "metadata": {
        "id": "dpNkpmsah8kI"
      },
      "execution_count": null,
      "outputs": []
    },
    {
      "cell_type": "code",
      "source": [
        "fig, ax = plt.subplots(nrows=3, figsize=(10, 15))\n",
        "ax[0].plot(exp_df[\"explained_var\"], marker='o', linestyle='-', color='b')\n",
        "ax[0].set_title('Explained Variance Ratio')\n",
        "ax[0].set_xlabel('Number of Components')\n",
        "ax[0].set_ylabel('Explained Variance')\n",
        "\n",
        "\n",
        "ax[1].plot(exp_df[\"cum_explained_var\"], marker='o', linestyle='-', color='r')\n",
        "ax[1].set_title('Cumulative Explained Variance Ratio')\n",
        "ax[1].set_xlabel('Number of Components')\n",
        "ax[1].set_ylabel('Cumulative Explained Variance')\n",
        "\n",
        "ax[1].axhline(y=0.95, color='gray', linestyle='--')\n",
        "\n",
        "ax[2].plot(exp_df[\"eigen_value\"], marker='o', linestyle='-', color='g')\n",
        "ax[2].set_title('Eigenvalues')\n",
        "ax[2].set_xlabel('Number of Components')\n",
        "ax[2].set_ylabel('Eigenvalue')\n",
        "\n",
        "ax[2].axvline(x=4, color='gray', linestyle='--')\n",
        "\n",
        "plt.tight_layout()\n",
        "plt.show()\n"
      ],
      "metadata": {
        "id": "6zK4PDVxiC-h"
      },
      "execution_count": null,
      "outputs": []
    },
    {
      "cell_type": "code",
      "source": [
        "fig, ax = plt.subplots(nrows=3, figsize=(10, 15))\n",
        "ax[0].plot(exp_df[\"explained_var\"].head(200), marker='o', linestyle='-', color='b')\n",
        "ax[0].set_title('Explained Variance Ratio')\n",
        "ax[0].set_xlabel('Number of Components')\n",
        "ax[0].set_ylabel('Explained Variance')\n",
        "\n",
        "\n",
        "ax[1].plot(exp_df[\"cum_explained_var\"].head(200), marker='o', linestyle='-', color='r')\n",
        "ax[1].set_title('Cumulative Explained Variance Ratio')\n",
        "ax[1].set_xlabel('Number of Components')\n",
        "ax[1].set_ylabel('Cumulative Explained Variance')\n",
        "\n",
        "ax[1].axhline(y=0.95, color='gray', linestyle='--')\n",
        "\n",
        "ax[2].plot(exp_df[\"eigen_value\"].head(200), marker='o', linestyle='-', color='g')\n",
        "ax[2].set_title('Eigenvalues')\n",
        "ax[2].set_xlabel('Number of Components')\n",
        "ax[2].set_ylabel('Eigenvalue')\n",
        "\n",
        "ax[2].axvline(x=4, color='gray', linestyle='--')\n",
        "\n",
        "plt.tight_layout()\n",
        "plt.show()"
      ],
      "metadata": {
        "id": "DfAdhA8bi744"
      },
      "execution_count": null,
      "outputs": []
    },
    {
      "cell_type": "code",
      "source": [
        "pca_100 = PCA(n_components=100, whiten=True, svd_solver='auto')\n",
        "pca_data = pca_100.fit_transform(value_clean)"
      ],
      "metadata": {
        "id": "3qzaDoW1jX7_"
      },
      "execution_count": null,
      "outputs": []
    },
    {
      "cell_type": "code",
      "source": [
        "pca_data.shape"
      ],
      "metadata": {
        "id": "j-biXofHjjF9"
      },
      "execution_count": null,
      "outputs": []
    },
    {
      "cell_type": "markdown",
      "source": [
        "# **Saving models and data**"
      ],
      "metadata": {
        "id": "bMXH7_EHj4aZ"
      }
    },
    {
      "cell_type": "code",
      "source": [
        "target=df_[\"Gender\"].values\n",
        "np.savez(\"/content/drive/MyDrive/FaceRecognition/OpenCV/data/data_pca_100_target\", pca_data, y=target)"
      ],
      "metadata": {
        "id": "TJ5qBAAtj8x-"
      },
      "execution_count": null,
      "outputs": []
    },
    {
      "cell_type": "code",
      "source": [],
      "metadata": {
        "id": "bscHtw_HF85S"
      },
      "execution_count": null,
      "outputs": []
    },
    {
      "cell_type": "code",
      "source": [
        "pca_dict = {\n",
        "    \"mean\": mean_value,\n",
        "    \"pca\": pca_100\n",
        "}"
      ],
      "metadata": {
        "id": "_FAgGjImkvP1"
      },
      "execution_count": null,
      "outputs": []
    },
    {
      "cell_type": "code",
      "source": [
        "import pickle"
      ],
      "metadata": {
        "id": "0f1KuLJRk9zl"
      },
      "execution_count": null,
      "outputs": []
    },
    {
      "cell_type": "code",
      "source": [
        "pickle.dump(pca_dict, open(\"/content/drive/MyDrive/FaceRecognition/OpenCV/data/pca_dict.pkl\", \"wb\"))"
      ],
      "metadata": {
        "id": "DDrSvjZBk5O1"
      },
      "execution_count": null,
      "outputs": []
    },
    {
      "cell_type": "code",
      "source": [
        "\n",
        "\n"
      ],
      "metadata": {
        "id": "iiDBMjFzGPji"
      },
      "execution_count": null,
      "outputs": []
    }
  ]
}